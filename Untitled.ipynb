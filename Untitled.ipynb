{
 "cells": [
  {
   "cell_type": "code",
   "execution_count": 1,
   "id": "34f4c5dc-619e-438f-8b96-c823cda35164",
   "metadata": {},
   "outputs": [
    {
     "name": "stderr",
     "output_type": "stream",
     "text": [
      "Loading required package: SeuratObject\n",
      "\n",
      "Loading required package: sp\n",
      "\n",
      "\n",
      "Attaching package: ‘SeuratObject’\n",
      "\n",
      "\n",
      "The following objects are masked from ‘package:base’:\n",
      "\n",
      "    intersect, t\n",
      "\n",
      "\n",
      "Warning message:\n",
      "“package ‘data.table’ was built under R version 4.4.2”\n",
      "Warning message:\n",
      "“package ‘dplyr’ was built under R version 4.4.1”\n",
      "\n",
      "Attaching package: ‘dplyr’\n",
      "\n",
      "\n",
      "The following objects are masked from ‘package:data.table’:\n",
      "\n",
      "    between, first, last\n",
      "\n",
      "\n",
      "The following objects are masked from ‘package:stats’:\n",
      "\n",
      "    filter, lag\n",
      "\n",
      "\n",
      "The following objects are masked from ‘package:base’:\n",
      "\n",
      "    intersect, setdiff, setequal, union\n",
      "\n",
      "\n",
      "Warning message:\n",
      "“package ‘ggplot2’ was built under R version 4.4.1”\n",
      "Warning message:\n",
      "“package ‘Matrix’ was built under R version 4.4.3”\n"
     ]
    }
   ],
   "source": [
    "library(future)\n",
    "library(Seurat)\n",
    "library(data.table)\n",
    "library(dplyr)\n",
    "library(ggplot2)\n",
    "library(Matrix)"
   ]
  },
  {
   "cell_type": "code",
   "execution_count": 2,
   "id": "317486d7-7d8f-44d7-a8a2-8e53e67be24d",
   "metadata": {},
   "outputs": [],
   "source": [
    "# With 800GB RAM available, we can be much more generous\n",
    "RAM.thresh <- 200000 * 1024^2  # 200GB limit for future operations\n",
    "options(future.globals.maxSize = RAM.thresh)"
   ]
  },
  {
   "cell_type": "code",
   "execution_count": 3,
   "id": "8e257a1c-b0f9-4039-8aa3-8059001fbb41",
   "metadata": {},
   "outputs": [],
   "source": [
    "# Use all 12 CPUs since you have abundant memory\n",
    "plan(multisession, workers = 12)"
   ]
  },
  {
   "cell_type": "code",
   "execution_count": 4,
   "id": "795e717a-86b7-4606-bfef-d59054fd4651",
   "metadata": {},
   "outputs": [
    {
     "name": "stdout",
     "output_type": "stream",
     "text": [
      "Loading Seurat object...\n"
     ]
    }
   ],
   "source": [
    "# Load object\n",
    "cat(\"Loading Seurat object...\\n\")\n",
    "sce1 <- readRDS(\"/tscc/lustre/ddn/scratch/pkudtarkar/FNIH/250429_Reference_heart_preprocessed.rds\")"
   ]
  },
  {
   "cell_type": "code",
   "execution_count": 5,
   "id": "8a93410c-3cd4-4eac-99fe-6b4623b3c3c8",
   "metadata": {},
   "outputs": [
    {
     "name": "stderr",
     "output_type": "stream",
     "text": [
      "Loading required package: Signac\n",
      "\n"
     ]
    },
    {
     "name": "stdout",
     "output_type": "stream",
     "text": [
      "Dataset info:\n",
      "Number of cells: 329255 \n",
      "Number of genes: 36510 \n",
      "Cell types:\n",
      "\n",
      "       Fibroblast       Endothelial               vCM       Macrophages \n",
      "            67157             52039             68449             36401 \n",
      "        Pericytes              Mast       Endocardial                 T \n",
      "            22489              1986              8927             14760 \n",
      "               SM                DC                 B          Neuronal \n",
      "             6561             12968              1535              3962 \n",
      "               NK lymph_Endothelial         Adipocyte        Epicardial \n",
      "             3726              1611              1122              1716 \n",
      "              aCM \n",
      "            23846 \n"
     ]
    }
   ],
   "source": [
    "# Set identity\n",
    "Idents(sce1) <- \"celltype\"\n",
    "sce1$Cell_Type <- Idents(sce1)\n",
    "\n",
    "cat(\"Dataset info:\\n\")\n",
    "cat(\"Number of cells:\", ncol(sce1), \"\\n\")\n",
    "cat(\"Number of genes:\", nrow(sce1), \"\\n\")\n",
    "cat(\"Cell types:\\n\")\n",
    "print(table(Idents(sce1)))"
   ]
  },
  {
   "cell_type": "code",
   "execution_count": 6,
   "id": "fb95a41b-30db-40d4-826a-1fce4d601a12",
   "metadata": {},
   "outputs": [
    {
     "name": "stdout",
     "output_type": "stream",
     "text": [
      "Extracting normalized data...\n"
     ]
    }
   ],
   "source": [
    "# Get normalized data\n",
    "cat(\"Extracting normalized data...\\n\")\n",
    "normalized_matrix <- GetAssayData(sce1, assay = \"RNA\", layer = \"data\")"
   ]
  },
  {
   "cell_type": "code",
   "execution_count": 7,
   "id": "128ea6d3-d68a-40ca-81f7-6b97fe387fb0",
   "metadata": {
    "scrolled": true
   },
   "outputs": [
    {
     "name": "stdout",
     "output_type": "stream",
     "text": [
      "Sample values from normalized matrix:\n",
      "5 x 5 sparse Matrix of class \"dgCMatrix\"\n",
      "            QY_2193_1_2_QY_2192_1_2_AAACAGCCAACTAGGG-1\n",
      "MIR1302-2HG                                          .\n",
      "FAM138A                                              .\n",
      "OR4F5                                                .\n",
      "AL627309.1                                           .\n",
      "AL627309.3                                           .\n",
      "            QY_2193_1_2_QY_2192_1_2_AAACAGCCACTTACAG-1\n",
      "MIR1302-2HG                                          .\n",
      "FAM138A                                              .\n",
      "OR4F5                                                .\n",
      "AL627309.1                                           .\n",
      "AL627309.3                                           .\n",
      "            QY_2193_1_2_QY_2192_1_2_AAACAGCCAGTTTGTG-1\n",
      "MIR1302-2HG                                          .\n",
      "FAM138A                                              .\n",
      "OR4F5                                                .\n",
      "AL627309.1                                           .\n",
      "AL627309.3                                           .\n",
      "            QY_2193_1_2_QY_2192_1_2_AAACAGCCATCCGTAA-1\n",
      "MIR1302-2HG                                          .\n",
      "FAM138A                                              .\n",
      "OR4F5                                                .\n",
      "AL627309.1                                           .\n",
      "AL627309.3                                           .\n",
      "            QY_2193_1_2_QY_2192_1_2_AAACAGCCATGCATAT-1\n",
      "MIR1302-2HG                                          .\n",
      "FAM138A                                              .\n",
      "OR4F5                                                .\n",
      "AL627309.1                                           .\n",
      "AL627309.3                                           .\n"
     ]
    }
   ],
   "source": [
    "cat(\"Sample values from normalized matrix:\\n\")\n",
    "print(normalized_matrix[1:5, 1:5])"
   ]
  },
  {
   "cell_type": "code",
   "execution_count": 8,
   "id": "6b879644-52bf-4b9d-9e3b-f651873faf4b",
   "metadata": {},
   "outputs": [
    {
     "name": "stdout",
     "output_type": "stream",
     "text": [
      "Estimated dense matrix size: ~450GB\n",
      "Available RAM: 800GB\n",
      "Using chunked processing for safety...\n"
     ]
    }
   ],
   "source": [
    "cat(\"Estimated dense matrix size: ~450GB\\n\")\n",
    "cat(\"Available RAM: 800GB\\n\")\n",
    "cat(\"Using chunked processing for safety...\\n\")"
   ]
  },
  {
   "cell_type": "code",
   "execution_count": 9,
   "id": "4a62efae-13ae-453c-abc9-92fca632aff7",
   "metadata": {},
   "outputs": [
    {
     "name": "stdout",
     "output_type": "stream",
     "text": [
      "Starting chunked dense matrix export...\n",
      "Processing 36510 genes in 74 chunks of 500 genes each\n",
      "Each chunk will use approximately 30GB RAM\n"
     ]
    }
   ],
   "source": [
    "# Process by gene chunks to stay within memory limits\n",
    "cat(\"Starting chunked dense matrix export...\\n\")\n",
    "output_file <- \"/tscc/lustre/ddn/scratch/pkudtarkar/FNIH_scRNA_log_normalized_gene_by_cell_matrix-heart.tsv\"\n",
    "\n",
    "# Conservative chunk size for 1.5M cells\n",
    "chunk_size <- 500  # Process 500 genes at a time (~30GB per chunk)\n",
    "\n",
    "n_genes <- nrow(normalized_matrix)\n",
    "n_chunks <- ceiling(n_genes / chunk_size)\n",
    "\n",
    "cat(\"Processing\", n_genes, \"genes in\", n_chunks, \"chunks of\", chunk_size, \"genes each\\n\")\n",
    "cat(\"Each chunk will use approximately 30GB RAM\\n\")"
   ]
  },
  {
   "cell_type": "code",
   "execution_count": 10,
   "id": "7a0076a4-045b-4a34-a4d2-1e47a3a6d507",
   "metadata": {},
   "outputs": [
    {
     "name": "stdout",
     "output_type": "stream",
     "text": [
      "Writing header with 329255 cell names...\n"
     ]
    }
   ],
   "source": [
    "# Write header first\n",
    "cell_names <- colnames(normalized_matrix)\n",
    "header <- c(\"Gene\", cell_names)\n",
    "cat(\"Writing header with\", length(cell_names), \"cell names...\\n\")\n",
    "write.table(t(header), file = output_file, sep = \"\\t\", quote = FALSE, \n",
    "            row.names = FALSE, col.names = FALSE)"
   ]
  },
  {
   "cell_type": "code",
   "execution_count": 11,
   "id": "a1fc0d6f-4b04-479b-843c-4648b3e0b2f5",
   "metadata": {
    "scrolled": true
   },
   "outputs": [
    {
     "name": "stdout",
     "output_type": "stream",
     "text": [
      "Processing chunk 1 of 74 (genes 1 to 500 )"
     ]
    },
    {
     "name": "stderr",
     "output_type": "stream",
     "text": [
      "Warning message in asMethod(object):\n",
      "\"sparse->dense coercion: allocating vector of size 1.2 GiB\"\n"
     ]
    },
    {
     "name": "stdout",
     "output_type": "stream",
     "text": [
      " - completed in 0.22 minutes\n",
      "Processing chunk 2 of 74 (genes 501 to 1000 )"
     ]
    },
    {
     "name": "stderr",
     "output_type": "stream",
     "text": [
      "Warning message in asMethod(object):\n",
      "\"sparse->dense coercion: allocating vector of size 1.2 GiB\"\n"
     ]
    },
    {
     "name": "stdout",
     "output_type": "stream",
     "text": [
      " - completed in 0.2 minutes\n",
      "Processing chunk 3 of 74 (genes 1001 to 1500 )"
     ]
    },
    {
     "name": "stderr",
     "output_type": "stream",
     "text": [
      "Warning message in asMethod(object):\n",
      "\"sparse->dense coercion: allocating vector of size 1.2 GiB\"\n"
     ]
    },
    {
     "name": "stdout",
     "output_type": "stream",
     "text": [
      " - completed in 0.19 minutes\n",
      "Processing chunk 4 of 74 (genes 1501 to 2000 )"
     ]
    },
    {
     "name": "stderr",
     "output_type": "stream",
     "text": [
      "Warning message in asMethod(object):\n",
      "\"sparse->dense coercion: allocating vector of size 1.2 GiB\"\n"
     ]
    },
    {
     "name": "stdout",
     "output_type": "stream",
     "text": [
      " - completed in 0.2 minutes\n",
      "Processing chunk 5 of 74 (genes 2001 to 2500 )"
     ]
    },
    {
     "name": "stderr",
     "output_type": "stream",
     "text": [
      "Warning message in asMethod(object):\n",
      "\"sparse->dense coercion: allocating vector of size 1.2 GiB\"\n"
     ]
    },
    {
     "name": "stdout",
     "output_type": "stream",
     "text": [
      " - completed in 0.19 minutes\n",
      "Processing chunk 6 of 74 (genes 2501 to 3000 )"
     ]
    },
    {
     "name": "stderr",
     "output_type": "stream",
     "text": [
      "Warning message in asMethod(object):\n",
      "\"sparse->dense coercion: allocating vector of size 1.2 GiB\"\n"
     ]
    },
    {
     "name": "stdout",
     "output_type": "stream",
     "text": [
      " - completed in 0.2 minutes\n",
      "Processing chunk 7 of 74 (genes 3001 to 3500 )"
     ]
    },
    {
     "name": "stderr",
     "output_type": "stream",
     "text": [
      "Warning message in asMethod(object):\n",
      "\"sparse->dense coercion: allocating vector of size 1.2 GiB\"\n"
     ]
    },
    {
     "name": "stdout",
     "output_type": "stream",
     "text": [
      " - completed in 0.19 minutes\n",
      "Processing chunk 8 of 74 (genes 3501 to 4000 )"
     ]
    },
    {
     "name": "stderr",
     "output_type": "stream",
     "text": [
      "Warning message in asMethod(object):\n",
      "\"sparse->dense coercion: allocating vector of size 1.2 GiB\"\n"
     ]
    },
    {
     "name": "stdout",
     "output_type": "stream",
     "text": [
      " - completed in 0.2 minutes\n",
      "Processing chunk 9 of 74 (genes 4001 to 4500 )"
     ]
    },
    {
     "name": "stderr",
     "output_type": "stream",
     "text": [
      "Warning message in asMethod(object):\n",
      "\"sparse->dense coercion: allocating vector of size 1.2 GiB\"\n"
     ]
    },
    {
     "name": "stdout",
     "output_type": "stream",
     "text": [
      " - completed in 0.19 minutes\n",
      "Processing chunk 10 of 74 (genes 4501 to 5000 )"
     ]
    },
    {
     "name": "stderr",
     "output_type": "stream",
     "text": [
      "Warning message in asMethod(object):\n",
      "\"sparse->dense coercion: allocating vector of size 1.2 GiB\"\n"
     ]
    },
    {
     "name": "stdout",
     "output_type": "stream",
     "text": [
      " - completed in 0.2 minutes\n",
      "Progress:  13.5 % complete\n",
      "Elapsed time:  2  minutes\n",
      "Estimated remaining time:  12.8  minutes\n",
      "Estimated total time:  14.7  minutes\n",
      "\n",
      "Processing chunk 11 of 74 (genes 5001 to 5500 )"
     ]
    },
    {
     "name": "stderr",
     "output_type": "stream",
     "text": [
      "Warning message in asMethod(object):\n",
      "\"sparse->dense coercion: allocating vector of size 1.2 GiB\"\n"
     ]
    },
    {
     "name": "stdout",
     "output_type": "stream",
     "text": [
      " - completed in 0.2 minutes\n",
      "Processing chunk 12 of 74 (genes 5501 to 6000 )"
     ]
    },
    {
     "name": "stderr",
     "output_type": "stream",
     "text": [
      "Warning message in asMethod(object):\n",
      "\"sparse->dense coercion: allocating vector of size 1.2 GiB\"\n"
     ]
    },
    {
     "name": "stdout",
     "output_type": "stream",
     "text": [
      " - completed in 0.2 minutes\n",
      "Processing chunk 13 of 74 (genes 6001 to 6500 )"
     ]
    },
    {
     "name": "stderr",
     "output_type": "stream",
     "text": [
      "Warning message in asMethod(object):\n",
      "\"sparse->dense coercion: allocating vector of size 1.2 GiB\"\n"
     ]
    },
    {
     "name": "stdout",
     "output_type": "stream",
     "text": [
      " - completed in 0.2 minutes\n",
      "Processing chunk 14 of 74 (genes 6501 to 7000 )"
     ]
    },
    {
     "name": "stderr",
     "output_type": "stream",
     "text": [
      "Warning message in asMethod(object):\n",
      "\"sparse->dense coercion: allocating vector of size 1.2 GiB\"\n"
     ]
    },
    {
     "name": "stdout",
     "output_type": "stream",
     "text": [
      " - completed in 0.2 minutes\n",
      "Processing chunk 15 of 74 (genes 7001 to 7500 )"
     ]
    },
    {
     "name": "stderr",
     "output_type": "stream",
     "text": [
      "Warning message in asMethod(object):\n",
      "\"sparse->dense coercion: allocating vector of size 1.2 GiB\"\n"
     ]
    },
    {
     "name": "stdout",
     "output_type": "stream",
     "text": [
      " - completed in 0.19 minutes\n",
      "Processing chunk 16 of 74 (genes 7501 to 8000 )"
     ]
    },
    {
     "name": "stderr",
     "output_type": "stream",
     "text": [
      "Warning message in asMethod(object):\n",
      "\"sparse->dense coercion: allocating vector of size 1.2 GiB\"\n"
     ]
    },
    {
     "name": "stdout",
     "output_type": "stream",
     "text": [
      " - completed in 0.2 minutes\n",
      "Processing chunk 17 of 74 (genes 8001 to 8500 )"
     ]
    },
    {
     "name": "stderr",
     "output_type": "stream",
     "text": [
      "Warning message in asMethod(object):\n",
      "\"sparse->dense coercion: allocating vector of size 1.2 GiB\"\n"
     ]
    },
    {
     "name": "stdout",
     "output_type": "stream",
     "text": [
      " - completed in 0.2 minutes\n",
      "Processing chunk 18 of 74 (genes 8501 to 9000 )"
     ]
    },
    {
     "name": "stderr",
     "output_type": "stream",
     "text": [
      "Warning message in asMethod(object):\n",
      "\"sparse->dense coercion: allocating vector of size 1.2 GiB\"\n"
     ]
    },
    {
     "name": "stdout",
     "output_type": "stream",
     "text": [
      " - completed in 0.2 minutes\n",
      "Processing chunk 19 of 74 (genes 9001 to 9500 )"
     ]
    },
    {
     "name": "stderr",
     "output_type": "stream",
     "text": [
      "Warning message in asMethod(object):\n",
      "\"sparse->dense coercion: allocating vector of size 1.2 GiB\"\n"
     ]
    },
    {
     "name": "stdout",
     "output_type": "stream",
     "text": [
      " - completed in 0.19 minutes\n",
      "Processing chunk 20 of 74 (genes 9501 to 10000 )"
     ]
    },
    {
     "name": "stderr",
     "output_type": "stream",
     "text": [
      "Warning message in asMethod(object):\n",
      "\"sparse->dense coercion: allocating vector of size 1.2 GiB\"\n"
     ]
    },
    {
     "name": "stdout",
     "output_type": "stream",
     "text": [
      " - completed in 0.2 minutes\n",
      "Progress:  27 % complete\n",
      "Elapsed time:  4  minutes\n",
      "Estimated remaining time:  10.7  minutes\n",
      "Estimated total time:  14.7  minutes\n",
      "\n",
      "Processing chunk 21 of 74 (genes 10001 to 10500 )"
     ]
    },
    {
     "name": "stderr",
     "output_type": "stream",
     "text": [
      "Warning message in asMethod(object):\n",
      "\"sparse->dense coercion: allocating vector of size 1.2 GiB\"\n"
     ]
    },
    {
     "name": "stdout",
     "output_type": "stream",
     "text": [
      " - completed in 0.2 minutes\n",
      "Processing chunk 22 of 74 (genes 10501 to 11000 )"
     ]
    },
    {
     "name": "stderr",
     "output_type": "stream",
     "text": [
      "Warning message in asMethod(object):\n",
      "\"sparse->dense coercion: allocating vector of size 1.2 GiB\"\n"
     ]
    },
    {
     "name": "stdout",
     "output_type": "stream",
     "text": [
      " - completed in 0.2 minutes\n",
      "Processing chunk 23 of 74 (genes 11001 to 11500 )"
     ]
    },
    {
     "name": "stderr",
     "output_type": "stream",
     "text": [
      "Warning message in asMethod(object):\n",
      "\"sparse->dense coercion: allocating vector of size 1.2 GiB\"\n"
     ]
    },
    {
     "name": "stdout",
     "output_type": "stream",
     "text": [
      " - completed in 0.19 minutes\n",
      "Processing chunk 24 of 74 (genes 11501 to 12000 )"
     ]
    },
    {
     "name": "stderr",
     "output_type": "stream",
     "text": [
      "Warning message in asMethod(object):\n",
      "\"sparse->dense coercion: allocating vector of size 1.2 GiB\"\n"
     ]
    },
    {
     "name": "stdout",
     "output_type": "stream",
     "text": [
      " - completed in 0.2 minutes\n",
      "Processing chunk 25 of 74 (genes 12001 to 12500 )"
     ]
    },
    {
     "name": "stderr",
     "output_type": "stream",
     "text": [
      "Warning message in asMethod(object):\n",
      "\"sparse->dense coercion: allocating vector of size 1.2 GiB\"\n"
     ]
    },
    {
     "name": "stdout",
     "output_type": "stream",
     "text": [
      " - completed in 0.19 minutes\n",
      "Processing chunk 26 of 74 (genes 12501 to 13000 )"
     ]
    },
    {
     "name": "stderr",
     "output_type": "stream",
     "text": [
      "Warning message in asMethod(object):\n",
      "\"sparse->dense coercion: allocating vector of size 1.2 GiB\"\n"
     ]
    },
    {
     "name": "stdout",
     "output_type": "stream",
     "text": [
      " - completed in 0.2 minutes\n",
      "Processing chunk 27 of 74 (genes 13001 to 13500 )"
     ]
    },
    {
     "name": "stderr",
     "output_type": "stream",
     "text": [
      "Warning message in asMethod(object):\n",
      "\"sparse->dense coercion: allocating vector of size 1.2 GiB\"\n"
     ]
    },
    {
     "name": "stdout",
     "output_type": "stream",
     "text": [
      " - completed in 0.21 minutes\n",
      "Processing chunk 28 of 74 (genes 13501 to 14000 )"
     ]
    },
    {
     "name": "stderr",
     "output_type": "stream",
     "text": [
      "Warning message in asMethod(object):\n",
      "\"sparse->dense coercion: allocating vector of size 1.2 GiB\"\n"
     ]
    },
    {
     "name": "stdout",
     "output_type": "stream",
     "text": [
      " - completed in 0.2 minutes\n",
      "Processing chunk 29 of 74 (genes 14001 to 14500 )"
     ]
    },
    {
     "name": "stderr",
     "output_type": "stream",
     "text": [
      "Warning message in asMethod(object):\n",
      "\"sparse->dense coercion: allocating vector of size 1.2 GiB\"\n"
     ]
    },
    {
     "name": "stdout",
     "output_type": "stream",
     "text": [
      " - completed in 0.2 minutes\n",
      "Processing chunk 30 of 74 (genes 14501 to 15000 )"
     ]
    },
    {
     "name": "stderr",
     "output_type": "stream",
     "text": [
      "Warning message in asMethod(object):\n",
      "\"sparse->dense coercion: allocating vector of size 1.2 GiB\"\n"
     ]
    },
    {
     "name": "stdout",
     "output_type": "stream",
     "text": [
      " - completed in 0.19 minutes\n",
      "Progress:  40.5 % complete\n",
      "Elapsed time:  6  minutes\n",
      "Estimated remaining time:  8.7  minutes\n",
      "Estimated total time:  14.7  minutes\n",
      "\n",
      "Processing chunk 31 of 74 (genes 15001 to 15500 )"
     ]
    },
    {
     "name": "stderr",
     "output_type": "stream",
     "text": [
      "Warning message in asMethod(object):\n",
      "\"sparse->dense coercion: allocating vector of size 1.2 GiB\"\n"
     ]
    },
    {
     "name": "stdout",
     "output_type": "stream",
     "text": [
      " - completed in 0.19 minutes\n",
      "Processing chunk 32 of 74 (genes 15501 to 16000 )"
     ]
    },
    {
     "name": "stderr",
     "output_type": "stream",
     "text": [
      "Warning message in asMethod(object):\n",
      "\"sparse->dense coercion: allocating vector of size 1.2 GiB\"\n"
     ]
    },
    {
     "name": "stdout",
     "output_type": "stream",
     "text": [
      " - completed in 0.2 minutes\n",
      "Processing chunk 33 of 74 (genes 16001 to 16500 )"
     ]
    },
    {
     "name": "stderr",
     "output_type": "stream",
     "text": [
      "Warning message in asMethod(object):\n",
      "\"sparse->dense coercion: allocating vector of size 1.2 GiB\"\n"
     ]
    },
    {
     "name": "stdout",
     "output_type": "stream",
     "text": [
      " - completed in 0.19 minutes\n",
      "Processing chunk 34 of 74 (genes 16501 to 17000 )"
     ]
    },
    {
     "name": "stderr",
     "output_type": "stream",
     "text": [
      "Warning message in asMethod(object):\n",
      "\"sparse->dense coercion: allocating vector of size 1.2 GiB\"\n"
     ]
    },
    {
     "name": "stdout",
     "output_type": "stream",
     "text": [
      " - completed in 0.2 minutes\n",
      "Processing chunk 35 of 74 (genes 17001 to 17500 )"
     ]
    },
    {
     "name": "stderr",
     "output_type": "stream",
     "text": [
      "Warning message in asMethod(object):\n",
      "\"sparse->dense coercion: allocating vector of size 1.2 GiB\"\n"
     ]
    },
    {
     "name": "stdout",
     "output_type": "stream",
     "text": [
      " - completed in 0.19 minutes\n",
      "Processing chunk 36 of 74 (genes 17501 to 18000 )"
     ]
    },
    {
     "name": "stderr",
     "output_type": "stream",
     "text": [
      "Warning message in asMethod(object):\n",
      "\"sparse->dense coercion: allocating vector of size 1.2 GiB\"\n"
     ]
    },
    {
     "name": "stdout",
     "output_type": "stream",
     "text": [
      " - completed in 0.2 minutes\n",
      "Processing chunk 37 of 74 (genes 18001 to 18500 )"
     ]
    },
    {
     "name": "stderr",
     "output_type": "stream",
     "text": [
      "Warning message in asMethod(object):\n",
      "\"sparse->dense coercion: allocating vector of size 1.2 GiB\"\n"
     ]
    },
    {
     "name": "stdout",
     "output_type": "stream",
     "text": [
      " - completed in 0.19 minutes\n",
      "Processing chunk 38 of 74 (genes 18501 to 19000 )"
     ]
    },
    {
     "name": "stderr",
     "output_type": "stream",
     "text": [
      "Warning message in asMethod(object):\n",
      "\"sparse->dense coercion: allocating vector of size 1.2 GiB\"\n"
     ]
    },
    {
     "name": "stdout",
     "output_type": "stream",
     "text": [
      " - completed in 0.2 minutes\n",
      "Processing chunk 39 of 74 (genes 19001 to 19500 )"
     ]
    },
    {
     "name": "stderr",
     "output_type": "stream",
     "text": [
      "Warning message in asMethod(object):\n",
      "\"sparse->dense coercion: allocating vector of size 1.2 GiB\"\n"
     ]
    },
    {
     "name": "stdout",
     "output_type": "stream",
     "text": [
      " - completed in 0.19 minutes\n",
      "Processing chunk 40 of 74 (genes 19501 to 20000 )"
     ]
    },
    {
     "name": "stderr",
     "output_type": "stream",
     "text": [
      "Warning message in asMethod(object):\n",
      "\"sparse->dense coercion: allocating vector of size 1.2 GiB\"\n"
     ]
    },
    {
     "name": "stdout",
     "output_type": "stream",
     "text": [
      " - completed in 0.19 minutes\n",
      "Progress:  54.1 % complete\n",
      "Elapsed time:  7.9  minutes\n",
      "Estimated remaining time:  6.7  minutes\n",
      "Estimated total time:  14.6  minutes\n",
      "\n",
      "Processing chunk 41 of 74 (genes 20001 to 20500 )"
     ]
    },
    {
     "name": "stderr",
     "output_type": "stream",
     "text": [
      "Warning message in asMethod(object):\n",
      "\"sparse->dense coercion: allocating vector of size 1.2 GiB\"\n"
     ]
    },
    {
     "name": "stdout",
     "output_type": "stream",
     "text": [
      " - completed in 0.19 minutes\n",
      "Processing chunk 42 of 74 (genes 20501 to 21000 )"
     ]
    },
    {
     "name": "stderr",
     "output_type": "stream",
     "text": [
      "Warning message in asMethod(object):\n",
      "\"sparse->dense coercion: allocating vector of size 1.2 GiB\"\n"
     ]
    },
    {
     "name": "stdout",
     "output_type": "stream",
     "text": [
      " - completed in 0.2 minutes\n",
      "Processing chunk 43 of 74 (genes 21001 to 21500 )"
     ]
    },
    {
     "name": "stderr",
     "output_type": "stream",
     "text": [
      "Warning message in asMethod(object):\n",
      "\"sparse->dense coercion: allocating vector of size 1.2 GiB\"\n"
     ]
    },
    {
     "name": "stdout",
     "output_type": "stream",
     "text": [
      " - completed in 0.2 minutes\n",
      "Processing chunk 44 of 74 (genes 21501 to 22000 )"
     ]
    },
    {
     "name": "stderr",
     "output_type": "stream",
     "text": [
      "Warning message in asMethod(object):\n",
      "\"sparse->dense coercion: allocating vector of size 1.2 GiB\"\n"
     ]
    },
    {
     "name": "stdout",
     "output_type": "stream",
     "text": [
      " - completed in 0.2 minutes\n",
      "Processing chunk 45 of 74 (genes 22001 to 22500 )"
     ]
    },
    {
     "name": "stderr",
     "output_type": "stream",
     "text": [
      "Warning message in asMethod(object):\n",
      "\"sparse->dense coercion: allocating vector of size 1.2 GiB\"\n"
     ]
    },
    {
     "name": "stdout",
     "output_type": "stream",
     "text": [
      " - completed in 0.19 minutes\n",
      "Processing chunk 46 of 74 (genes 22501 to 23000 )"
     ]
    },
    {
     "name": "stderr",
     "output_type": "stream",
     "text": [
      "Warning message in asMethod(object):\n",
      "\"sparse->dense coercion: allocating vector of size 1.2 GiB\"\n"
     ]
    },
    {
     "name": "stdout",
     "output_type": "stream",
     "text": [
      " - completed in 0.2 minutes\n",
      "Processing chunk 47 of 74 (genes 23001 to 23500 )"
     ]
    },
    {
     "name": "stderr",
     "output_type": "stream",
     "text": [
      "Warning message in asMethod(object):\n",
      "\"sparse->dense coercion: allocating vector of size 1.2 GiB\"\n"
     ]
    },
    {
     "name": "stdout",
     "output_type": "stream",
     "text": [
      " - completed in 0.19 minutes\n",
      "Processing chunk 48 of 74 (genes 23501 to 24000 )"
     ]
    },
    {
     "name": "stderr",
     "output_type": "stream",
     "text": [
      "Warning message in asMethod(object):\n",
      "\"sparse->dense coercion: allocating vector of size 1.2 GiB\"\n"
     ]
    },
    {
     "name": "stdout",
     "output_type": "stream",
     "text": [
      " - completed in 0.2 minutes\n",
      "Processing chunk 49 of 74 (genes 24001 to 24500 )"
     ]
    },
    {
     "name": "stderr",
     "output_type": "stream",
     "text": [
      "Warning message in asMethod(object):\n",
      "\"sparse->dense coercion: allocating vector of size 1.2 GiB\"\n"
     ]
    },
    {
     "name": "stdout",
     "output_type": "stream",
     "text": [
      " - completed in 0.19 minutes\n",
      "Processing chunk 50 of 74 (genes 24501 to 25000 )"
     ]
    },
    {
     "name": "stderr",
     "output_type": "stream",
     "text": [
      "Warning message in asMethod(object):\n",
      "\"sparse->dense coercion: allocating vector of size 1.2 GiB\"\n"
     ]
    },
    {
     "name": "stdout",
     "output_type": "stream",
     "text": [
      " - completed in 0.2 minutes\n",
      "Progress:  67.6 % complete\n",
      "Elapsed time:  9.9  minutes\n",
      "Estimated remaining time:  4.7  minutes\n",
      "Estimated total time:  14.6  minutes\n",
      "\n",
      "Processing chunk 51 of 74 (genes 25001 to 25500 )"
     ]
    },
    {
     "name": "stderr",
     "output_type": "stream",
     "text": [
      "Warning message in asMethod(object):\n",
      "\"sparse->dense coercion: allocating vector of size 1.2 GiB\"\n"
     ]
    },
    {
     "name": "stdout",
     "output_type": "stream",
     "text": [
      " - completed in 0.19 minutes\n",
      "Processing chunk 52 of 74 (genes 25501 to 26000 )"
     ]
    },
    {
     "name": "stderr",
     "output_type": "stream",
     "text": [
      "Warning message in asMethod(object):\n",
      "\"sparse->dense coercion: allocating vector of size 1.2 GiB\"\n"
     ]
    },
    {
     "name": "stdout",
     "output_type": "stream",
     "text": [
      " - completed in 0.2 minutes\n",
      "Processing chunk 53 of 74 (genes 26001 to 26500 )"
     ]
    },
    {
     "name": "stderr",
     "output_type": "stream",
     "text": [
      "Warning message in asMethod(object):\n",
      "\"sparse->dense coercion: allocating vector of size 1.2 GiB\"\n"
     ]
    },
    {
     "name": "stdout",
     "output_type": "stream",
     "text": [
      " - completed in 0.19 minutes\n",
      "Processing chunk 54 of 74 (genes 26501 to 27000 )"
     ]
    },
    {
     "name": "stderr",
     "output_type": "stream",
     "text": [
      "Warning message in asMethod(object):\n",
      "\"sparse->dense coercion: allocating vector of size 1.2 GiB\"\n"
     ]
    },
    {
     "name": "stdout",
     "output_type": "stream",
     "text": [
      " - completed in 0.2 minutes\n",
      "Processing chunk 55 of 74 (genes 27001 to 27500 )"
     ]
    },
    {
     "name": "stderr",
     "output_type": "stream",
     "text": [
      "Warning message in asMethod(object):\n",
      "\"sparse->dense coercion: allocating vector of size 1.2 GiB\"\n"
     ]
    },
    {
     "name": "stdout",
     "output_type": "stream",
     "text": [
      " - completed in 0.18 minutes\n",
      "Processing chunk 56 of 74 (genes 27501 to 28000 )"
     ]
    },
    {
     "name": "stderr",
     "output_type": "stream",
     "text": [
      "Warning message in asMethod(object):\n",
      "\"sparse->dense coercion: allocating vector of size 1.2 GiB\"\n"
     ]
    },
    {
     "name": "stdout",
     "output_type": "stream",
     "text": [
      " - completed in 0.2 minutes\n",
      "Processing chunk 57 of 74 (genes 28001 to 28500 )"
     ]
    },
    {
     "name": "stderr",
     "output_type": "stream",
     "text": [
      "Warning message in asMethod(object):\n",
      "\"sparse->dense coercion: allocating vector of size 1.2 GiB\"\n"
     ]
    },
    {
     "name": "stdout",
     "output_type": "stream",
     "text": [
      " - completed in 0.18 minutes\n",
      "Processing chunk 58 of 74 (genes 28501 to 29000 )"
     ]
    },
    {
     "name": "stderr",
     "output_type": "stream",
     "text": [
      "Warning message in asMethod(object):\n",
      "\"sparse->dense coercion: allocating vector of size 1.2 GiB\"\n"
     ]
    },
    {
     "name": "stdout",
     "output_type": "stream",
     "text": [
      " - completed in 0.2 minutes\n",
      "Processing chunk 59 of 74 (genes 29001 to 29500 )"
     ]
    },
    {
     "name": "stderr",
     "output_type": "stream",
     "text": [
      "Warning message in asMethod(object):\n",
      "\"sparse->dense coercion: allocating vector of size 1.2 GiB\"\n"
     ]
    },
    {
     "name": "stdout",
     "output_type": "stream",
     "text": [
      " - completed in 0.21 minutes\n",
      "Processing chunk 60 of 74 (genes 29501 to 30000 )"
     ]
    },
    {
     "name": "stderr",
     "output_type": "stream",
     "text": [
      "Warning message in asMethod(object):\n",
      "\"sparse->dense coercion: allocating vector of size 1.2 GiB\"\n"
     ]
    },
    {
     "name": "stdout",
     "output_type": "stream",
     "text": [
      " - completed in 0.2 minutes\n",
      "Progress:  81.1 % complete\n",
      "Elapsed time:  11.8  minutes\n",
      "Estimated remaining time:  2.8  minutes\n",
      "Estimated total time:  14.6  minutes\n",
      "\n",
      "Processing chunk 61 of 74 (genes 30001 to 30500 )"
     ]
    },
    {
     "name": "stderr",
     "output_type": "stream",
     "text": [
      "Warning message in asMethod(object):\n",
      "\"sparse->dense coercion: allocating vector of size 1.2 GiB\"\n"
     ]
    },
    {
     "name": "stdout",
     "output_type": "stream",
     "text": [
      " - completed in 0.19 minutes\n",
      "Processing chunk 62 of 74 (genes 30501 to 31000 )"
     ]
    },
    {
     "name": "stderr",
     "output_type": "stream",
     "text": [
      "Warning message in asMethod(object):\n",
      "\"sparse->dense coercion: allocating vector of size 1.2 GiB\"\n"
     ]
    },
    {
     "name": "stdout",
     "output_type": "stream",
     "text": [
      " - completed in 0.2 minutes\n",
      "Processing chunk 63 of 74 (genes 31001 to 31500 )"
     ]
    },
    {
     "name": "stderr",
     "output_type": "stream",
     "text": [
      "Warning message in asMethod(object):\n",
      "\"sparse->dense coercion: allocating vector of size 1.2 GiB\"\n"
     ]
    },
    {
     "name": "stdout",
     "output_type": "stream",
     "text": [
      " - completed in 0.18 minutes\n",
      "Processing chunk 64 of 74 (genes 31501 to 32000 )"
     ]
    },
    {
     "name": "stderr",
     "output_type": "stream",
     "text": [
      "Warning message in asMethod(object):\n",
      "\"sparse->dense coercion: allocating vector of size 1.2 GiB\"\n"
     ]
    },
    {
     "name": "stdout",
     "output_type": "stream",
     "text": [
      " - completed in 0.21 minutes\n",
      "Processing chunk 65 of 74 (genes 32001 to 32500 )"
     ]
    },
    {
     "name": "stderr",
     "output_type": "stream",
     "text": [
      "Warning message in asMethod(object):\n",
      "\"sparse->dense coercion: allocating vector of size 1.2 GiB\"\n"
     ]
    },
    {
     "name": "stdout",
     "output_type": "stream",
     "text": [
      " - completed in 0.18 minutes\n",
      "Processing chunk 66 of 74 (genes 32501 to 33000 )"
     ]
    },
    {
     "name": "stderr",
     "output_type": "stream",
     "text": [
      "Warning message in asMethod(object):\n",
      "\"sparse->dense coercion: allocating vector of size 1.2 GiB\"\n"
     ]
    },
    {
     "name": "stdout",
     "output_type": "stream",
     "text": [
      " - completed in 0.2 minutes\n",
      "Processing chunk 67 of 74 (genes 33001 to 33500 )"
     ]
    },
    {
     "name": "stderr",
     "output_type": "stream",
     "text": [
      "Warning message in asMethod(object):\n",
      "\"sparse->dense coercion: allocating vector of size 1.2 GiB\"\n"
     ]
    },
    {
     "name": "stdout",
     "output_type": "stream",
     "text": [
      " - completed in 0.18 minutes\n",
      "Processing chunk 68 of 74 (genes 33501 to 34000 )"
     ]
    },
    {
     "name": "stderr",
     "output_type": "stream",
     "text": [
      "Warning message in asMethod(object):\n",
      "\"sparse->dense coercion: allocating vector of size 1.2 GiB\"\n"
     ]
    },
    {
     "name": "stdout",
     "output_type": "stream",
     "text": [
      " - completed in 0.2 minutes\n",
      "Processing chunk 69 of 74 (genes 34001 to 34500 )"
     ]
    },
    {
     "name": "stderr",
     "output_type": "stream",
     "text": [
      "Warning message in asMethod(object):\n",
      "\"sparse->dense coercion: allocating vector of size 1.2 GiB\"\n"
     ]
    },
    {
     "name": "stdout",
     "output_type": "stream",
     "text": [
      " - completed in 0.19 minutes\n",
      "Processing chunk 70 of 74 (genes 34501 to 35000 )"
     ]
    },
    {
     "name": "stderr",
     "output_type": "stream",
     "text": [
      "Warning message in asMethod(object):\n",
      "\"sparse->dense coercion: allocating vector of size 1.2 GiB\"\n"
     ]
    },
    {
     "name": "stdout",
     "output_type": "stream",
     "text": [
      " - completed in 0.2 minutes\n",
      "Progress:  94.6 % complete\n",
      "Elapsed time:  13.8  minutes\n",
      "Estimated remaining time:  0.8  minutes\n",
      "Estimated total time:  14.6  minutes\n",
      "\n",
      "Processing chunk 71 of 74 (genes 35001 to 35500 )"
     ]
    },
    {
     "name": "stderr",
     "output_type": "stream",
     "text": [
      "Warning message in asMethod(object):\n",
      "\"sparse->dense coercion: allocating vector of size 1.2 GiB\"\n"
     ]
    },
    {
     "name": "stdout",
     "output_type": "stream",
     "text": [
      " - completed in 0.19 minutes\n",
      "Processing chunk 72 of 74 (genes 35501 to 36000 )"
     ]
    },
    {
     "name": "stderr",
     "output_type": "stream",
     "text": [
      "Warning message in asMethod(object):\n",
      "\"sparse->dense coercion: allocating vector of size 1.2 GiB\"\n"
     ]
    },
    {
     "name": "stdout",
     "output_type": "stream",
     "text": [
      " - completed in 0.2 minutes\n",
      "Processing chunk 73 of 74 (genes 36001 to 36500 )"
     ]
    },
    {
     "name": "stderr",
     "output_type": "stream",
     "text": [
      "Warning message in asMethod(object):\n",
      "\"sparse->dense coercion: allocating vector of size 1.2 GiB\"\n"
     ]
    },
    {
     "name": "stdout",
     "output_type": "stream",
     "text": [
      " - completed in 0.19 minutes\n",
      "Processing chunk 74 of 74 (genes 36501 to 36510 ) - completed in 0.12 minutes\n",
      "Progress:  100 % complete\n",
      "Elapsed time:  14.5  minutes\n",
      "Estimated remaining time:  0  minutes\n",
      "Estimated total time:  14.5  minutes\n",
      "\n",
      "Dense matrix export completed in 14.5 minutes!\n"
     ]
    },
    {
     "data": {
      "text/html": [
       "<table class=\"dataframe\">\n",
       "<caption>A matrix: 2 × 6 of type dbl</caption>\n",
       "<thead>\n",
       "\t<tr><th></th><th scope=col>used</th><th scope=col>(Mb)</th><th scope=col>gc trigger</th><th scope=col>(Mb)</th><th scope=col>max used</th><th scope=col>(Mb)</th></tr>\n",
       "</thead>\n",
       "<tbody>\n",
       "\t<tr><th scope=row>Ncells</th><td>  14519122</td><td>  775.5</td><td>   28915812</td><td>  1544.3</td><td>   28915812</td><td> 1544.3</td></tr>\n",
       "\t<tr><th scope=row>Vcells</th><td>9913428722</td><td>75633.5</td><td>16654213030</td><td>127061.6</td><td>11009850188</td><td>83998.5</td></tr>\n",
       "</tbody>\n",
       "</table>\n"
      ],
      "text/latex": [
       "A matrix: 2 × 6 of type dbl\n",
       "\\begin{tabular}{r|llllll}\n",
       "  & used & (Mb) & gc trigger & (Mb) & max used & (Mb)\\\\\n",
       "\\hline\n",
       "\tNcells &   14519122 &   775.5 &    28915812 &   1544.3 &    28915812 &  1544.3\\\\\n",
       "\tVcells & 9913428722 & 75633.5 & 16654213030 & 127061.6 & 11009850188 & 83998.5\\\\\n",
       "\\end{tabular}\n"
      ],
      "text/markdown": [
       "\n",
       "A matrix: 2 × 6 of type dbl\n",
       "\n",
       "| <!--/--> | used | (Mb) | gc trigger | (Mb) | max used | (Mb) |\n",
       "|---|---|---|---|---|---|---|\n",
       "| Ncells |   14519122 |   775.5 |    28915812 |   1544.3 |    28915812 |  1544.3 |\n",
       "| Vcells | 9913428722 | 75633.5 | 16654213030 | 127061.6 | 11009850188 | 83998.5 |\n",
       "\n"
      ],
      "text/plain": [
       "       used       (Mb)    gc trigger  (Mb)     max used    (Mb)   \n",
       "Ncells   14519122   775.5    28915812   1544.3    28915812  1544.3\n",
       "Vcells 9913428722 75633.5 16654213030 127061.6 11009850188 83998.5"
      ]
     },
     "metadata": {},
     "output_type": "display_data"
    }
   ],
   "source": [
    "# Process each chunk\n",
    "start_time <- Sys.time()\n",
    "\n",
    "for (i in 1:n_chunks) {\n",
    "  chunk_start_time <- Sys.time()\n",
    "  \n",
    "  start_idx <- ((i-1) * chunk_size) + 1\n",
    "  end_idx <- min(i * chunk_size, n_genes)\n",
    "  \n",
    "  cat(\"Processing chunk\", i, \"of\", n_chunks, \"(genes\", start_idx, \"to\", end_idx, \")\")\n",
    "  \n",
    "  # Extract chunk and convert to dense\n",
    "  chunk_sparse <- normalized_matrix[start_idx:end_idx, , drop = FALSE]\n",
    "  chunk_dense <- as.matrix(chunk_sparse)\n",
    "  chunk_df <- as.data.frame(chunk_dense)\n",
    "  chunk_dt <- as.data.table(chunk_df, keep.rownames = \"Gene\")\n",
    "  \n",
    "  # Append to file\n",
    "  fwrite(chunk_dt, file = output_file, sep = \"\\t\", quote = FALSE, \n",
    "         append = TRUE, col.names = FALSE)\n",
    "  \n",
    "  # Clean up chunk immediately\n",
    "  rm(chunk_sparse, chunk_dense, chunk_df, chunk_dt)\n",
    "  gc()\n",
    "  \n",
    "  # Time estimation\n",
    "  chunk_end_time <- Sys.time()\n",
    "  chunk_duration <- as.numeric(difftime(chunk_end_time, chunk_start_time, units = \"mins\"))\n",
    "  \n",
    "  cat(\" - completed in\", round(chunk_duration, 2), \"minutes\\n\")\n",
    "  \n",
    "  # Progress and time estimation\n",
    "  if (i %% 10 == 0 || i == n_chunks) {\n",
    "    elapsed_time <- as.numeric(difftime(Sys.time(), start_time, units = \"mins\"))\n",
    "    avg_time_per_chunk <- elapsed_time / i\n",
    "    remaining_chunks <- n_chunks - i\n",
    "    estimated_remaining <- remaining_chunks * avg_time_per_chunk\n",
    "    \n",
    "    cat(\"Progress: \", round(100 * i / n_chunks, 1), \"% complete\\n\")\n",
    "    cat(\"Elapsed time: \", round(elapsed_time, 1), \" minutes\\n\")\n",
    "    cat(\"Estimated remaining time: \", round(estimated_remaining, 1), \" minutes\\n\")\n",
    "    cat(\"Estimated total time: \", round(elapsed_time + estimated_remaining, 1), \" minutes\\n\\n\")\n",
    "  }\n",
    "}\n",
    "\n",
    "total_time <- as.numeric(difftime(Sys.time(), start_time, units = \"mins\"))\n",
    "cat(\"Dense matrix export completed in\", round(total_time, 1), \"minutes!\\n\")\n",
    "\n",
    "# Clean up the large normalized matrix\n",
    "rm(normalized_matrix)\n",
    "gc()\n"
   ]
  },
  {
   "cell_type": "code",
   "execution_count": 13,
   "id": "578e2210-4635-481f-b2d4-951caf7f6d6e",
   "metadata": {},
   "outputs": [
    {
     "data": {
      "text/plain": [
       "An object of class Seurat \n",
       "392885 features across 329255 samples within 4 assays \n",
       "Active assay: RNA (36510 features, 2000 variable features)\n",
       " 3 layers present: counts, data, scale.data\n",
       " 3 other assays present: RNA_raw, SCT, ATAC\n",
       " 10 dimensional reductions calculated: pca, harmony.rna, umap.rna, lsi, harmony.atac, umap.atac, umap.wnn, joint.umap, spca, umap.harmony.rna"
      ]
     },
     "metadata": {},
     "output_type": "display_data"
    }
   ],
   "source": [
    "sce1"
   ]
  },
  {
   "cell_type": "code",
   "execution_count": 14,
   "id": "9dc88ba5-ee1b-4a36-b5b9-a8393dbefe81",
   "metadata": {},
   "outputs": [
    {
     "name": "stdout",
     "output_type": "stream",
     "text": [
      "Saving UMAP coordinates...\n"
     ]
    }
   ],
   "source": [
    "# Extract and save UMAP coordinates\n",
    "cat(\"Saving UMAP coordinates...\\n\")\n",
    "umap_coordinates <- Embeddings(sce1, \"umap.rna\")\n",
    "colnames(umap_coordinates) <- c(\"X\", \"Y\")\n",
    "write.table(umap_coordinates, \n",
    "           file = \"/tscc/lustre/ddn/scratch/pkudtarkar/umap-heart.tsv\", \n",
    "           sep = \"\\t\", quote = FALSE, row.names = TRUE, col.names = TRUE)"
   ]
  },
  {
   "cell_type": "code",
   "execution_count": 17,
   "id": "5c0077fd-0748-4407-bbd4-53655ef8a746",
   "metadata": {},
   "outputs": [
    {
     "name": "stdout",
     "output_type": "stream",
     "text": [
      "Saving cell metadata...\n"
     ]
    }
   ],
   "source": [
    "# Extract and save metadata\n",
    "cat(\"Saving cell metadata...\\n\")\n",
    "cell_metadata <- sce1@meta.data\n",
    "write.table(cell_metadata, \n",
    "           file = \"/tscc/lustre/ddn/scratch/pkudtarkar/metadata-heart.tsv\", \n",
    "           sep = \"\\t\", quote = FALSE, row.names = TRUE, col.names = TRUE)\n"
   ]
  },
  {
   "cell_type": "code",
   "execution_count": 16,
   "id": "6dd3ac01-d487-415b-8f83-02594566888b",
   "metadata": {},
   "outputs": [
    {
     "name": "stdout",
     "output_type": "stream",
     "text": [
      "Verification:\n",
      "Dense matrix file size:\n",
      "First 3 rows and 5 columns of output:\n",
      "          Gene QY_2193_1_2_QY_2192_1_2_AAACAGCCAACTAGGG-1\n",
      "        <char>                                      <int>\n",
      "1: MIR1302-2HG                                          0\n",
      "2:     FAM138A                                          0\n",
      "3:       OR4F5                                          0\n",
      "   QY_2193_1_2_QY_2192_1_2_AAACAGCCACTTACAG-1\n",
      "                                        <int>\n",
      "1:                                          0\n",
      "2:                                          0\n",
      "3:                                          0\n",
      "   QY_2193_1_2_QY_2192_1_2_AAACAGCCAGTTTGTG-1\n",
      "                                        <int>\n",
      "1:                                          0\n",
      "2:                                          0\n",
      "3:                                          0\n",
      "   QY_2193_1_2_QY_2192_1_2_AAACAGCCATCCGTAA-1\n",
      "                                        <int>\n",
      "1:                                          0\n",
      "2:                                          0\n",
      "3:                                          0\n",
      "All processing completed successfully!\n",
      "Output files:\n",
      "1. Dense matrix: /tscc/lustre/ddn/scratch/pkudtarkar/FNIH_scRNA_log_normalized_gene_by_cell_matrix-heart.tsv \n",
      "2. UMAP coordinates: /tscc/lustre/ddn/scratch/pkudtarkar/umap-heart.tsv\n",
      "3. Cell metadata: /tscc/lustre/ddn/scratch/pkudtarkar/metadata-heart.tsv\n",
      "\n",
      "Final summary:\n",
      "- Dataset: 38,531 genes × 1,528,725 cells\n",
      "- Processing time: 14.5 minutes\n",
      "- Peak memory per chunk: ~30GB\n",
      "- Total chunks processed: 74 \n"
     ]
    }
   ],
   "source": [
    "# Verify outputs\n",
    "cat(\"Verification:\\n\")\n",
    "cat(\"Dense matrix file size:\\n\")\n",
    "system(paste(\"ls -lh\", output_file))\n",
    "\n",
    "cat(\"First 3 rows and 5 columns of output:\\n\")\n",
    "verification <- fread(output_file, nrows = 3, select = 1:min(6, 1528726))\n",
    "print(verification[, 1:min(5, ncol(verification))])\n",
    "\n",
    "cat(\"All processing completed successfully!\\n\")\n",
    "cat(\"Output files:\\n\")\n",
    "cat(\"1. Dense matrix:\", output_file, \"\\n\")\n",
    "cat(\"2. UMAP coordinates: /tscc/lustre/ddn/scratch/pkudtarkar/umap-heart.tsv\\n\")\n",
    "cat(\"3. Cell metadata: /tscc/lustre/ddn/scratch/pkudtarkar/metadata-heart.tsv\\n\")\n",
    "\n",
    "cat(\"\\nFinal summary:\\n\")\n",
    "cat(\"- Dataset: 38,531 genes × 1,528,725 cells\\n\")\n",
    "cat(\"- Processing time:\", round(total_time, 1), \"minutes\\n\")\n",
    "cat(\"- Peak memory per chunk: ~30GB\\n\")\n",
    "cat(\"- Total chunks processed:\", n_chunks, \"\\n\")"
   ]
  }
 ],
 "metadata": {
  "kernelspec": {
   "display_name": "r44_env_v2",
   "language": "R",
   "name": "r44_env_v2"
  },
  "language_info": {
   "codemirror_mode": "r",
   "file_extension": ".r",
   "mimetype": "text/x-r-source",
   "name": "R",
   "pygments_lexer": "r",
   "version": "4.4.0"
  }
 },
 "nbformat": 4,
 "nbformat_minor": 5
}
